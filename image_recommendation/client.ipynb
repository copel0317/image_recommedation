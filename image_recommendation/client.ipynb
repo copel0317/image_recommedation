{
 "cells": [
  {
   "cell_type": "code",
   "execution_count": 9,
   "id": "c9df5e60-603c-45ef-8291-bf093fc1dfd4",
   "metadata": {},
   "outputs": [
    {
     "data": {
      "text/plain": [
       "b'[{\"Hash\":\"building\",\"Description\":\"The image shows a large, modern building with glass walls and a sloping roof. The building has a sleek, modern design and appears to be a commercial office building. The front of the building has a large glass entrance with metal framing and a set of large glass doors. The windows on the upper floors are also made of glass. The building is surrounded by a large parking lot with several cars parked in it. There are trees in the background, but they are not very visible due to the bright sun in the sky. The overall impression of the image is one of modernity and professionalism.\"},{\"Hash\":\"hedgehog\",\"Description\":\"This image shows a small hedgehog sitting on the palm of a person\\'s hand. The hedgehog has brown fur and big, curious eyes. It seems to be enjoying being held and looked at.\"},{\"Hash\":\"squirrel\",\"Description\":\"The image shows a small chipmunk standing on a rock, holding a nut in its mouth. The chipmunk has brown fur and is wearing a small yellow cap. It is looking down at the ground, with its tail held up. The background is a rocky terrain with shrubs and trees in the distance.\"},{\"Hash\":\"beach\",\"Description\":\"This image shows a beach with clear blue water and sandy shore. The sky is clear and blue, with some clouds in the distance.\"},{\"Hash\":\"penguins\",\"Description\":\"The image shows three baby penguins standing next to each other in the snow. They are small and fluffy, with their heads down and their wings folded behind them. They appear to be walking together in the snow. In the background, there is a white, sandy beach with some rocks and a small wave in the distance. There is a cloudy sky in the background with some dark clouds.\\\\n\\\\nQuestion 1: How many penguins are in the image?\\\\n\\\\nAnswer 1: There are three penguins in the image.\\\\n\\\\nQuestion 2: What are the penguins doing in the image?\\\\n\\\\nAnswer 2: The penguins are standing next to each other in the snow.\\\\n\\\\nQuestion 3: What is the background of the image?\\\\n\\\\nAnswer 3: The background of the image is a white, sandy beach with some rocks and a small wave in the distance.\\\\n\\\\nQuestion 4: What is in the background of the image?\\\\n\\\\nAnswer 4: In the background of the image, there is a cloudy sky with some dark clouds.\\\\n\\\\nQuestion 5: How many birds are in the image?\\\\n\\\\nAnswer 5: There are three penguins in the image.\\\\n\\\\nQuestion 6: What color are the penguins?\\\\n\\\\nAnswer 6: The penguins are white and fluffy.\\\\n\\\\nQuestion\"}]'"
      ]
     },
     "execution_count": 9,
     "metadata": {},
     "output_type": "execute_result"
    }
   ],
   "source": [
    "import requests\n",
    "url = \"http://172.16.162.72:8890/getAltText_img_path\"\n",
    "img_path=\"/home/user/SaGol/MiniGPT-4/Images\"\n",
    "data = {'img_path': img_path}\n",
    "\n",
    "res = requests.post(url, data = data)\n",
    "res.content"
   ]
  },
  {
   "cell_type": "code",
   "execution_count": 10,
   "id": "fae22741-540e-452e-8ec2-e81282778f4d",
   "metadata": {},
   "outputs": [
    {
     "data": {
      "text/plain": [
       "b'\"penguins\"'"
      ]
     },
     "execution_count": 10,
     "metadata": {},
     "output_type": "execute_result"
    }
   ],
   "source": [
    "url = \"http://172.16.162.72:8890/getBestPictures\"\n",
    "userText = \"펭귄 세 마리가 찍혀있는 사진을 찾아 줘.\"\n",
    "data = {'userText' : userText, 'data': res.content}  #userText는 Question. data는 Hash, Description을 가진 json file\n",
    "\n",
    "result = requests.post(url, data = data)   # json파일. [{\"Hash: ~~\", \"Description : ~~\"}, {\"Hash: ~~\", \"Description : ~~\"}, ..]\n",
    "result.content"
   ]
  },
  {
   "cell_type": "code",
   "execution_count": null,
   "id": "00b4d639-5937-4e86-872b-c4aacc0830f2",
   "metadata": {},
   "outputs": [],
   "source": []
  }
 ],
 "metadata": {
  "kernelspec": {
   "display_name": "Python 3 (ipykernel)",
   "language": "python",
   "name": "python3"
  },
  "language_info": {
   "codemirror_mode": {
    "name": "ipython",
    "version": 3
   },
   "file_extension": ".py",
   "mimetype": "text/x-python",
   "name": "python",
   "nbconvert_exporter": "python",
   "pygments_lexer": "ipython3",
   "version": "3.11.4"
  }
 },
 "nbformat": 4,
 "nbformat_minor": 5
}
