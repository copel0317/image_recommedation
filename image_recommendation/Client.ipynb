{
 "cells": [
  {
   "cell_type": "code",
   "execution_count": 28,
   "id": "fa02af98-b7e3-4c7e-8926-670c91281045",
   "metadata": {},
   "outputs": [],
   "source": [
    "import requests\n",
    "import json\n",
    "from pathlib import Path"
   ]
  },
  {
   "cell_type": "code",
   "execution_count": 22,
   "id": "c9df5e60-603c-45ef-8291-bf093fc1dfd4",
   "metadata": {},
   "outputs": [
    {
     "data": {
      "text/plain": [
       "[{'Hash': '21123dasdasd12e',\n",
       "  'Description': \"The image shows a small penguin standing on the snowy ground. The penguin is standing on its hind legs, with its front flippers tucked under its body. The penguin's beak is slightly open, as if it is ready to speak or make a noise. The penguin's feathers are fluffy and white, and its eyes are black and round. There are no other animals or objects in the image. The sky is overcast and the temperature is cold. The air is still and there is no wind.\",\n",
       "  'Id': 'Sagol'}]"
      ]
     },
     "execution_count": 22,
     "metadata": {},
     "output_type": "execute_result"
    }
   ],
   "source": [
    "#사진 설명 성성 - 단일 이미지\n",
    "def makeDescription (Img, Hash, Id) :\n",
    "    url = \"http://172.16.162.72:8890/getAltText\"\n",
    "    with open(Img, 'rb') as img_file:\n",
    "        data = {'Id' : Id, 'Hash': Hash}\n",
    "        files = {'Image': img_file}\n",
    "        res = requests.post(url, data=data, files=files)\n",
    "        result = json.loads(res.content)\n",
    "        return result\n",
    "        \n",
    "#===================================================== 입력할 부분            #사진의 기본 프롬프트는 Describe the image.\n",
    "Img = \"C:/Users/Administrator/Desktop/apple.jpg\"\n",
    "Hash = \"21123dasdasd12e\"\n",
    "Id = \"Sagol\"\n",
    "#=====================================================\n",
    "\n",
    "makeDescription (Img, Hash, Id)"
   ]
  },
  {
   "cell_type": "code",
   "execution_count": 35,
   "id": "d00d2164-b115-4d94-ae5c-2b05e752af2f",
   "metadata": {},
   "outputs": [
    {
     "data": {
      "text/plain": [
       "[{'Hash': 'beach.jpg',\n",
       "  'Description': 'The image shows a sandy beach with clear blue water washing over the sand. There is a large rock formation in the foreground and the sky is a bright blue with fluffy clouds.',\n",
       "  'Id': 'Hcail'},\n",
       " {'Hash': 'building.jpg',\n",
       "  'Description': 'The image shows a large modern building with glass walls and large windows. The building appears to be multi-story and has a sleek, modern design. The building is located in a cityscape with other buildings and roads visible in the background. There are no people in the image. The sky is clear and sunny.\\n\\nIs the image an accurate representation of the building?\\nIs the building located in a residential area or a commercial area?\\nWhat is the purpose of the building in the image?\\nIs the building in disrepair or in need of maintenance?\\nIs there anything unusual or noteworthy about the building in the image?',\n",
       "  'Id': 'Hcail'},\n",
       " {'Hash': 'hedgehog.jpg',\n",
       "  'Description': \"The image shows a small hedgehog in someone's hands. It has big, round, black eyes, and small, short, white spines on its back. It has white fur and brown spots on its head. It has two little legs and a small, round, brown nose. Its eyes look happy and curious.\\n\\nThe hedgehog is small and cute. It looks like it's smiling and happy to be held in someone's hands. The person holding it seems to be taking care of it and is showing it off to someone else.\",\n",
       "  'Id': 'Hcail'},\n",
       " {'Hash': 'penguins.jpg',\n",
       "  'Description': 'There are three baby penguins standing on the snow in the image. The penguins are all huddled together, with one of them looking directly at the camera. There is a white background with snow covering the ground. The penguins appear to be healthy and happy.\\n\\nHow many penguins are in the image?',\n",
       "  'Id': 'Hcail'},\n",
       " {'Hash': 'squirrel.jpg',\n",
       "  'Description': 'This image shows a small rodent eating a nut while standing on a rocky surface. The nut is held in its front paws and the rodent is looking down at it with its large eyes. There are some plants and rocks in the background and the sun is shining on the scene.',\n",
       "  'Id': 'Hcail'}]"
      ]
     },
     "execution_count": 35,
     "metadata": {},
     "output_type": "execute_result"
    }
   ],
   "source": [
    "#사진 설명 성성 - 로컬 디렉토리 지정 (여러 장)\n",
    "def makeDescription_directory (img_path, Id) :\n",
    "    combined_data = []\n",
    "    for file in Path(img_path).iterdir():\n",
    "        if file.is_file():\n",
    "            Hash = file.name\n",
    "            combined_data.extend(makeDescription (file, Hash, Id))\n",
    "        else :\n",
    "            pass\n",
    "    return combined_data\n",
    "    \n",
    "img_path = \"C:/Users/Administrator/Desktop/Images\"\n",
    "Id = \"Hcail\"\n",
    "\n",
    "result = makeDescription_directory(img_path, Id)\n",
    "result"
   ]
  },
  {
   "cell_type": "code",
   "execution_count": 39,
   "id": "3f2a14e8-460a-4ead-b549-6c3a0dfcb57d",
   "metadata": {},
   "outputs": [
    {
     "data": {
      "text/plain": [
       "'이 이미지는 작은 설치류가 바위 표면에 서서 견과류를 먹는 모습을 보여줍니다. 너트는 앞발에 쥐고 있으며 설치류는 큰 눈으로 너트를 내려다보고 있습니다. 배경에는 식물과 바위가 있고 장면에는 태양이 빛나고 있습니다.'"
      ]
     },
     "execution_count": 39,
     "metadata": {},
     "output_type": "execute_result"
    }
   ],
   "source": [
    "#사진 번역\n",
    "\n",
    "#pair 하나를 받았을 때\n",
    "def translate (pair) :\n",
    "    url = \"http://172.16.162.72:8890/translate\"\n",
    "    data = pair\n",
    "    translated_Desctription =requests.post(url, data = data)\n",
    "    return translated_Desctription.content.decode('utf-8')\n",
    "\n",
    "#pair 여러 개를 받았을 때 특정 Hash값 하나를 번역\n",
    "def translate_pairs (Hash_to_find, pairs) :\n",
    "    url = \"http://172.16.162.72:8890/translate\"\n",
    "    for pair in pairs:\n",
    "        if (pair['Hash'] == Hash_to_find) :\n",
    "            return translate(pair)\n",
    "    return \"해당하는 사진을 찾을 수 없습니다.\"\n",
    "\n",
    "Hash_to_find = \"squirrel.jpg\"\n",
    "pairs = result                    #바로 위에서 directory로 실행했을 때를 예시로 작성\n",
    "\n",
    "translated = translate_pairs(Hash_to_find, pairs)\n",
    "translated"
   ]
  },
  {
   "cell_type": "code",
   "execution_count": 116,
   "id": "00b4d639-5937-4e86-872b-c4aacc0830f2",
   "metadata": {},
   "outputs": [],
   "source": [
    "#사진 추천 \n",
    "\n",
    "def recommendImages (userText, pairs) :\n",
    "    url = \"http://172.16.162.72:8890/getBestPictures\"\n",
    "    data = {'userText' : userText, 'data': json.dumps(pairs)} \n",
    "    result = requests.post(url, data = data)\n",
    "    return result.content.decode(\"UTF-8\")[1:-1]\n",
    "\n",
    "#===================================================== 입력할 부분\n",
    "userText = \"건물 사진을 찾아 줘.\"\n",
    "data = pairs  # 일단 테스트 데이터로 위에서 생성한 설명을 이용함\n",
    "#===================================================== "
   ]
  },
  {
   "cell_type": "code",
   "execution_count": 117,
   "id": "54ce2ece-fded-41b4-bbc0-690b0603d5e9",
   "metadata": {},
   "outputs": [
    {
     "data": {
      "text/plain": [
       "'building.jpg'"
      ]
     },
     "execution_count": 117,
     "metadata": {},
     "output_type": "execute_result"
    }
   ],
   "source": [
    "recommended = recommendImages (userText, pairs)\n",
    "recommended"
   ]
  }
 ],
 "metadata": {
  "kernelspec": {
   "display_name": "Python 3 (ipykernel)",
   "language": "python",
   "name": "python3"
  },
  "language_info": {
   "codemirror_mode": {
    "name": "ipython",
    "version": 3
   },
   "file_extension": ".py",
   "mimetype": "text/x-python",
   "name": "python",
   "nbconvert_exporter": "python",
   "pygments_lexer": "ipython3",
   "version": "3.11.4"
  }
 },
 "nbformat": 4,
 "nbformat_minor": 5
}
